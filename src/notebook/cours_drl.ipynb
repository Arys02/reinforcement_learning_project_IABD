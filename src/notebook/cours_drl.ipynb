{
 "cells": [
  {
   "cell_type": "code",
   "execution_count": 1,
   "id": "initial_id",
   "metadata": {
    "collapsed": true,
    "ExecuteTime": {
     "end_time": "2024-04-27T17:39:26.018396Z",
     "start_time": "2024-04-27T17:39:25.012043Z"
    }
   },
   "outputs": [],
   "source": [
    "from typing import List\n",
    "\n",
    "import pandas as pd\n",
    "import numpy as np\n",
    "from tqdm import tqdm"
   ]
  },
  {
   "cell_type": "markdown",
   "source": [
    "# Monte Carlo ES"
   ],
   "metadata": {
    "collapsed": false
   },
   "id": "a180468303b198b"
  },
  {
   "cell_type": "code",
   "outputs": [],
   "source": [
    "class LineWorld:\n",
    "    def __init__(self):\n",
    "        self._agent_pos = 2\n",
    "\n",
    "    #uniquement pour le monté Carlo ES\n",
    "    @staticmethod\n",
    "    def from_random_state() -> 'LineWorld':\n",
    "        env = LineWorld()\n",
    "        env._agent_pos = np.random.randint(1, 4)\n",
    "        return env\n",
    "\n",
    "    def available_action(self) -> List[int]:\n",
    "        if self._agent_pos in [1, 2, 3]:\n",
    "            return [0, 1]  # 0: left, 1: right\n",
    "        return []\n",
    "\n",
    "    def is_terminal(self) -> bool:\n",
    "        return True if self._agent_pos in [0, 4] else False\n",
    "\n",
    "    def state_id(self) -> int:\n",
    "        return self._agent_pos\n",
    "\n",
    "    def step(self, action: int):\n",
    "        assert (not self.is_terminal())\n",
    "        assert (action in self.available_action())\n",
    "        if action == 0:\n",
    "            self._agent_pos -= 1\n",
    "        else:\n",
    "            self._agent_pos += 1\n",
    "\n",
    "    def score(self) -> float:\n",
    "        if self._agent_pos == 0:\n",
    "            return -1.0\n",
    "        if self._agent_pos == 4:\n",
    "            return 1.0\n",
    "        return 0.0\n",
    "\n",
    "    def display(self):\n",
    "        for i in range(5):\n",
    "            print('X' if self._agent_pos == i else '_', end='')\n",
    "        print()\n",
    "\n",
    "    def reset(self):\n",
    "        self._agent_pos = 2"
   ],
   "metadata": {
    "collapsed": false,
    "ExecuteTime": {
     "end_time": "2024-04-27T17:39:26.029064Z",
     "start_time": "2024-04-27T17:39:26.020607Z"
    }
   },
   "id": "49b24cb299c97ff9",
   "execution_count": 2
  },
  {
   "cell_type": "code",
   "outputs": [
    {
     "name": "stdout",
     "output_type": "stream",
     "text": [
      "__X__\n",
      "_X___\n"
     ]
    }
   ],
   "source": [
    "env = LineWorld()\n",
    "env.display()\n",
    "env.step(0)\n",
    "env.display()"
   ],
   "metadata": {
    "collapsed": false,
    "ExecuteTime": {
     "end_time": "2024-04-27T17:39:26.052876Z",
     "start_time": "2024-04-27T17:39:26.031436Z"
    }
   },
   "id": "fb16be17b705aa3b",
   "execution_count": 3
  },
  {
   "cell_type": "code",
   "outputs": [],
   "source": [
    "def naive_monte_carlo_with_exploring_start(env_type,\n",
    "                                           gamma: float = 0.999,\n",
    "                                           nb_iter: int = 10000,\n",
    "                                           max_steps: int = 10):\n",
    "    pi = {}\n",
    "    Q = {}\n",
    "    Returns = {}\n",
    "\n",
    "    for it in tqdm(range(nb_iter)):\n",
    "        env: LineWorld = env_type.from_random_state()\n",
    "\n",
    "        trajectory = []\n",
    "        steps_count = 0\n",
    "\n",
    "        is_first_action = True\n",
    "\n",
    "        while not env.is_terminal() and steps_count < max_steps:\n",
    "            s = env.state_id()\n",
    "            aa = env.available_action()\n",
    "\n",
    "            if s not in pi:\n",
    "                pi[s] = np.random.choice(aa)\n",
    "\n",
    "            if is_first_action:\n",
    "                a = np.random.choice(aa)\n",
    "                is_first_action = False\n",
    "            else:\n",
    "                a = pi[s]\n",
    "\n",
    "            prev_score = env.score()\n",
    "            env.step(a)\n",
    "            r = env.score() - prev_score\n",
    "            trajectory.append((s, a, r, aa))\n",
    "            steps_count += 1\n",
    "\n",
    "        G = 0\n",
    "        for (t, (s, a, r, aa)) in reversed(list(enumerate(trajectory))):\n",
    "            G = gamma * G + r\n",
    "\n",
    "            if all(map(lambda triplet: triplet[0] != s or triplet[1] != a, trajectory[:t])):\n",
    "                if (s, a) not in Returns:\n",
    "                    Returns[(s, a)] = []\n",
    "                Returns[(s, a)].append(G)\n",
    "                Q[(s, a)] = np.mean(Returns[(s, a)])\n",
    "\n",
    "                best_a = None\n",
    "                best_a_idx = 0\n",
    "                for a in aa:\n",
    "                    if (s, a) not in Q:\n",
    "                        Q[(s, a)] = np.random.random()\n",
    "                    if best_a is None or Q[(s, a)] > best_a_idx:\n",
    "                        best_a = a\n",
    "                        best_a_idx = Q[(s, a)]\n",
    "                pi[s] = best_a\n",
    "    return pi\n",
    "\n",
    "\n",
    "\n"
   ],
   "metadata": {
    "collapsed": false,
    "ExecuteTime": {
     "end_time": "2024-04-27T17:40:30.378820Z",
     "start_time": "2024-04-27T17:40:30.370067Z"
    }
   },
   "id": "837f22fe2f53edf0",
   "execution_count": 12
  },
  {
   "cell_type": "code",
   "outputs": [
    {
     "name": "stderr",
     "output_type": "stream",
     "text": [
      "100%|██████████| 10000/10000 [00:03<00:00, 3208.71it/s]\n"
     ]
    },
    {
     "data": {
      "text/plain": "{1: 1, 2: 1, 3: 1}"
     },
     "execution_count": 13,
     "metadata": {},
     "output_type": "execute_result"
    }
   ],
   "source": [
    "naive_monte_carlo_with_exploring_start(LineWorld)"
   ],
   "metadata": {
    "collapsed": false,
    "ExecuteTime": {
     "end_time": "2024-04-27T17:40:34.218355Z",
     "start_time": "2024-04-27T17:40:31.092683Z"
    }
   },
   "id": "ecfbb2db933f7abb",
   "execution_count": 13
  },
  {
   "cell_type": "markdown",
   "source": [
    "# Qlearning (of policy TD control)"
   ],
   "metadata": {
    "collapsed": false
   },
   "id": "c75d0c2d2a6e263b"
  },
  {
   "cell_type": "code",
   "outputs": [],
   "source": [
    "def naive_q_learning(env_type,\n",
    "                     gamma: float = 0.999,\n",
    "                     nb_iter: int = 100000,\n",
    "                     alpha: float = 0.1,\n",
    "                     epsilon: float = 0.1):\n",
    "    Q = {}\n",
    "    env = env_type()\n",
    "    for it in tqdm(range(nb_iter)):\n",
    "        env.reset()\n",
    "\n",
    "        while not env.is_terminal():\n",
    "            s = env.state_id()\n",
    "            aa = env.available_action()\n",
    "            \n",
    "            if s not in Q:\n",
    "                Q[s] = {}\n",
    "                for a in aa:\n",
    "                    Q[s][a] = np.random.random()\n",
    "\n",
    "            if np.random.random() < epsilon:\n",
    "                a = np.random.choice(aa)\n",
    "            else:\n",
    "                q_s = [Q[s][a] for a in aa]\n",
    "                best_a_index = np.argmax(q_s)\n",
    "                a = aa[best_a_index]\n",
    "\n",
    "            prev_score = env.score()\n",
    "            env.step(a)\n",
    "            r = env.score() - prev_score\n",
    "\n",
    "            s_p = env.state_id()\n",
    "            aa_p = env.available_action()\n",
    "\n",
    "            if env.is_terminal():\n",
    "                target = r\n",
    "            else:\n",
    "                if s_p not in Q:\n",
    "                    Q[s_p] = {}\n",
    "                    for a_p in aa_p:\n",
    "                        Q[s_p][a_p] = np.random.random()\n",
    "                        \n",
    "                q_s_p = [Q[s_p][a_p] for a_p in aa_p]\n",
    "                max_a_p = np.max(q_s_p)\n",
    "                target = r + gamma * max_a_p\n",
    "                \n",
    "            Q[s][a] = (1 - alpha) * Q[s][a] + alpha * target\n",
    "\n",
    "    pi = {}\n",
    "    print(Q)\n",
    "    for s in Q.keys():\n",
    "        best_a = None\n",
    "        best_a_score = 0.0\n",
    "\n",
    "        for a, a_score in Q[s].items():\n",
    "            if best_a is None or best_a_score <= a_score:\n",
    "                best_a = a\n",
    "                best_a_score = a_score\n",
    "        pi[s] = best_a\n",
    "\n",
    "    return pi, Q\n",
    "\n"
   ],
   "metadata": {
    "collapsed": false,
    "ExecuteTime": {
     "end_time": "2024-04-27T18:10:32.106316Z",
     "start_time": "2024-04-27T18:10:32.099165Z"
    }
   },
   "id": "505cb7832c83a71e",
   "execution_count": 38
  },
  {
   "cell_type": "code",
   "outputs": [
    {
     "name": "stderr",
     "output_type": "stream",
     "text": [
      "100%|██████████| 100000/100000 [00:02<00:00, 34535.43it/s]"
     ]
    },
    {
     "name": "stdout",
     "output_type": "stream",
     "text": [
      "{2: {0: 0.9970029989999992, 1: 0.9989999999999996}, 3: {0: 0.9980009999999991, 1: 0.9999999999999994}, 1: {0: -0.9999999999956554, 1: 0.9980009999999991}}\n"
     ]
    },
    {
     "name": "stderr",
     "output_type": "stream",
     "text": [
      "\n"
     ]
    },
    {
     "data": {
      "text/plain": "({2: 1, 3: 1, 1: 1},\n {2: {0: 0.9970029989999992, 1: 0.9989999999999996},\n  3: {0: 0.9980009999999991, 1: 0.9999999999999994},\n  1: {0: -0.9999999999956554, 1: 0.9980009999999991}})"
     },
     "execution_count": 39,
     "metadata": {},
     "output_type": "execute_result"
    }
   ],
   "source": [
    "naive_q_learning(LineWorld)"
   ],
   "metadata": {
    "collapsed": false,
    "ExecuteTime": {
     "end_time": "2024-04-27T18:10:35.604042Z",
     "start_time": "2024-04-27T18:10:32.700603Z"
    }
   },
   "id": "15db32cab1112b13",
   "execution_count": 39
  }
 ],
 "metadata": {
  "kernelspec": {
   "display_name": "Python 3",
   "language": "python",
   "name": "python3"
  },
  "language_info": {
   "codemirror_mode": {
    "name": "ipython",
    "version": 2
   },
   "file_extension": ".py",
   "mimetype": "text/x-python",
   "name": "python",
   "nbconvert_exporter": "python",
   "pygments_lexer": "ipython2",
   "version": "2.7.6"
  }
 },
 "nbformat": 4,
 "nbformat_minor": 5
}
